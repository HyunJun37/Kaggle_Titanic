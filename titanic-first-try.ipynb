{
 "cells": [
  {
   "cell_type": "markdown",
   "id": "e3bd94d6",
   "metadata": {
    "papermill": {
     "duration": 0.012889,
     "end_time": "2022-05-02T05:50:31.776417",
     "exception": false,
     "start_time": "2022-05-02T05:50:31.763528",
     "status": "completed"
    },
    "tags": []
   },
   "source": [
    "# 1. EDA"
   ]
  },
  {
   "cell_type": "code",
   "execution_count": 1,
   "id": "511b0986",
   "metadata": {
    "execution": {
     "iopub.execute_input": "2022-05-02T05:50:31.803425Z",
     "iopub.status.busy": "2022-05-02T05:50:31.802684Z",
     "iopub.status.idle": "2022-05-02T05:50:33.080454Z",
     "shell.execute_reply": "2022-05-02T05:50:33.079408Z"
    },
    "papermill": {
     "duration": 1.294492,
     "end_time": "2022-05-02T05:50:33.083534",
     "exception": false,
     "start_time": "2022-05-02T05:50:31.789042",
     "status": "completed"
    },
    "tags": []
   },
   "outputs": [],
   "source": [
    "import numpy as np\n",
    "import pandas as pd\n",
    "import matplotlib.pyplot as plt\n",
    "import seaborn as sns\n",
    "plt.style.use('seaborn')\n",
    "import missingno as msno\n",
    "\n",
    "import warnings\n",
    "warnings.filterwarnings('ignore')\n",
    "\n",
    "%matplotlib inline"
   ]
  },
  {
   "cell_type": "code",
   "execution_count": 2,
   "id": "990e2526",
   "metadata": {
    "execution": {
     "iopub.execute_input": "2022-05-02T05:50:33.110037Z",
     "iopub.status.busy": "2022-05-02T05:50:33.109736Z",
     "iopub.status.idle": "2022-05-02T05:50:33.149249Z",
     "shell.execute_reply": "2022-05-02T05:50:33.148028Z"
    },
    "papermill": {
     "duration": 0.056104,
     "end_time": "2022-05-02T05:50:33.152153",
     "exception": false,
     "start_time": "2022-05-02T05:50:33.096049",
     "status": "completed"
    },
    "tags": []
   },
   "outputs": [],
   "source": [
    "train = pd.read_csv('../input/titanic/train.csv')\n",
    "test = pd.read_csv('../input/titanic/test.csv')\n",
    "all_data = pd.concat([train, test])"
   ]
  },
  {
   "cell_type": "code",
   "execution_count": 3,
   "id": "3cfcd867",
   "metadata": {
    "execution": {
     "iopub.execute_input": "2022-05-02T05:50:33.178736Z",
     "iopub.status.busy": "2022-05-02T05:50:33.178277Z",
     "iopub.status.idle": "2022-05-02T05:50:33.200708Z",
     "shell.execute_reply": "2022-05-02T05:50:33.199722Z"
    },
    "papermill": {
     "duration": 0.038584,
     "end_time": "2022-05-02T05:50:33.203292",
     "exception": false,
     "start_time": "2022-05-02T05:50:33.164708",
     "status": "completed"
    },
    "tags": []
   },
   "outputs": [
    {
     "data": {
      "text/html": [
       "<div>\n",
       "<style scoped>\n",
       "    .dataframe tbody tr th:only-of-type {\n",
       "        vertical-align: middle;\n",
       "    }\n",
       "\n",
       "    .dataframe tbody tr th {\n",
       "        vertical-align: top;\n",
       "    }\n",
       "\n",
       "    .dataframe thead th {\n",
       "        text-align: right;\n",
       "    }\n",
       "</style>\n",
       "<table border=\"1\" class=\"dataframe\">\n",
       "  <thead>\n",
       "    <tr style=\"text-align: right;\">\n",
       "      <th></th>\n",
       "      <th>PassengerId</th>\n",
       "      <th>Survived</th>\n",
       "      <th>Pclass</th>\n",
       "      <th>Name</th>\n",
       "      <th>Sex</th>\n",
       "      <th>Age</th>\n",
       "      <th>SibSp</th>\n",
       "      <th>Parch</th>\n",
       "      <th>Ticket</th>\n",
       "      <th>Fare</th>\n",
       "      <th>Cabin</th>\n",
       "      <th>Embarked</th>\n",
       "    </tr>\n",
       "  </thead>\n",
       "  <tbody>\n",
       "    <tr>\n",
       "      <th>0</th>\n",
       "      <td>1</td>\n",
       "      <td>0</td>\n",
       "      <td>3</td>\n",
       "      <td>Braund, Mr. Owen Harris</td>\n",
       "      <td>male</td>\n",
       "      <td>22.0</td>\n",
       "      <td>1</td>\n",
       "      <td>0</td>\n",
       "      <td>A/5 21171</td>\n",
       "      <td>7.2500</td>\n",
       "      <td>NaN</td>\n",
       "      <td>S</td>\n",
       "    </tr>\n",
       "    <tr>\n",
       "      <th>1</th>\n",
       "      <td>2</td>\n",
       "      <td>1</td>\n",
       "      <td>1</td>\n",
       "      <td>Cumings, Mrs. John Bradley (Florence Briggs Th...</td>\n",
       "      <td>female</td>\n",
       "      <td>38.0</td>\n",
       "      <td>1</td>\n",
       "      <td>0</td>\n",
       "      <td>PC 17599</td>\n",
       "      <td>71.2833</td>\n",
       "      <td>C85</td>\n",
       "      <td>C</td>\n",
       "    </tr>\n",
       "    <tr>\n",
       "      <th>2</th>\n",
       "      <td>3</td>\n",
       "      <td>1</td>\n",
       "      <td>3</td>\n",
       "      <td>Heikkinen, Miss. Laina</td>\n",
       "      <td>female</td>\n",
       "      <td>26.0</td>\n",
       "      <td>0</td>\n",
       "      <td>0</td>\n",
       "      <td>STON/O2. 3101282</td>\n",
       "      <td>7.9250</td>\n",
       "      <td>NaN</td>\n",
       "      <td>S</td>\n",
       "    </tr>\n",
       "    <tr>\n",
       "      <th>3</th>\n",
       "      <td>4</td>\n",
       "      <td>1</td>\n",
       "      <td>1</td>\n",
       "      <td>Futrelle, Mrs. Jacques Heath (Lily May Peel)</td>\n",
       "      <td>female</td>\n",
       "      <td>35.0</td>\n",
       "      <td>1</td>\n",
       "      <td>0</td>\n",
       "      <td>113803</td>\n",
       "      <td>53.1000</td>\n",
       "      <td>C123</td>\n",
       "      <td>S</td>\n",
       "    </tr>\n",
       "    <tr>\n",
       "      <th>4</th>\n",
       "      <td>5</td>\n",
       "      <td>0</td>\n",
       "      <td>3</td>\n",
       "      <td>Allen, Mr. William Henry</td>\n",
       "      <td>male</td>\n",
       "      <td>35.0</td>\n",
       "      <td>0</td>\n",
       "      <td>0</td>\n",
       "      <td>373450</td>\n",
       "      <td>8.0500</td>\n",
       "      <td>NaN</td>\n",
       "      <td>S</td>\n",
       "    </tr>\n",
       "  </tbody>\n",
       "</table>\n",
       "</div>"
      ],
      "text/plain": [
       "   PassengerId  Survived  Pclass  \\\n",
       "0            1         0       3   \n",
       "1            2         1       1   \n",
       "2            3         1       3   \n",
       "3            4         1       1   \n",
       "4            5         0       3   \n",
       "\n",
       "                                                Name     Sex   Age  SibSp  \\\n",
       "0                            Braund, Mr. Owen Harris    male  22.0      1   \n",
       "1  Cumings, Mrs. John Bradley (Florence Briggs Th...  female  38.0      1   \n",
       "2                             Heikkinen, Miss. Laina  female  26.0      0   \n",
       "3       Futrelle, Mrs. Jacques Heath (Lily May Peel)  female  35.0      1   \n",
       "4                           Allen, Mr. William Henry    male  35.0      0   \n",
       "\n",
       "   Parch            Ticket     Fare Cabin Embarked  \n",
       "0      0         A/5 21171   7.2500   NaN        S  \n",
       "1      0          PC 17599  71.2833   C85        C  \n",
       "2      0  STON/O2. 3101282   7.9250   NaN        S  \n",
       "3      0            113803  53.1000  C123        S  \n",
       "4      0            373450   8.0500   NaN        S  "
      ]
     },
     "execution_count": 3,
     "metadata": {},
     "output_type": "execute_result"
    }
   ],
   "source": [
    "train.head()"
   ]
  },
  {
   "cell_type": "code",
   "execution_count": 4,
   "id": "e0517938",
   "metadata": {
    "execution": {
     "iopub.execute_input": "2022-05-02T05:50:33.232653Z",
     "iopub.status.busy": "2022-05-02T05:50:33.231660Z",
     "iopub.status.idle": "2022-05-02T05:50:33.243106Z",
     "shell.execute_reply": "2022-05-02T05:50:33.242028Z"
    },
    "papermill": {
     "duration": 0.030203,
     "end_time": "2022-05-02T05:50:33.246848",
     "exception": false,
     "start_time": "2022-05-02T05:50:33.216645",
     "status": "completed"
    },
    "tags": []
   },
   "outputs": [
    {
     "name": "stdout",
     "output_type": "stream",
     "text": [
      "train has 891 data.\n"
     ]
    },
    {
     "data": {
      "text/plain": [
       "PassengerId      0\n",
       "Survived         0\n",
       "Pclass           0\n",
       "Name             0\n",
       "Sex              0\n",
       "Age            177\n",
       "SibSp            0\n",
       "Parch            0\n",
       "Ticket           0\n",
       "Fare             0\n",
       "Cabin          687\n",
       "Embarked         2\n",
       "dtype: int64"
      ]
     },
     "execution_count": 4,
     "metadata": {},
     "output_type": "execute_result"
    }
   ],
   "source": [
    "print(f\"train has {train.shape[0]} data.\")\n",
    "train.isnull().sum()"
   ]
  },
  {
   "cell_type": "code",
   "execution_count": 5,
   "id": "5930f27d",
   "metadata": {
    "execution": {
     "iopub.execute_input": "2022-05-02T05:50:33.277546Z",
     "iopub.status.busy": "2022-05-02T05:50:33.276901Z",
     "iopub.status.idle": "2022-05-02T05:50:33.288648Z",
     "shell.execute_reply": "2022-05-02T05:50:33.287793Z"
    },
    "papermill": {
     "duration": 0.029519,
     "end_time": "2022-05-02T05:50:33.290693",
     "exception": false,
     "start_time": "2022-05-02T05:50:33.261174",
     "status": "completed"
    },
    "tags": []
   },
   "outputs": [
    {
     "name": "stdout",
     "output_type": "stream",
     "text": [
      "test has 418 data.\n"
     ]
    },
    {
     "data": {
      "text/plain": [
       "PassengerId      0\n",
       "Pclass           0\n",
       "Name             0\n",
       "Sex              0\n",
       "Age             86\n",
       "SibSp            0\n",
       "Parch            0\n",
       "Ticket           0\n",
       "Fare             1\n",
       "Cabin          327\n",
       "Embarked         0\n",
       "dtype: int64"
      ]
     },
     "execution_count": 5,
     "metadata": {},
     "output_type": "execute_result"
    }
   ],
   "source": [
    "print(f\"test has {test.shape[0]} data.\")\n",
    "test.isnull().sum()"
   ]
  },
  {
   "cell_type": "markdown",
   "id": "5149f132",
   "metadata": {
    "papermill": {
     "duration": 0.014402,
     "end_time": "2022-05-02T05:50:33.319318",
     "exception": false,
     "start_time": "2022-05-02T05:50:33.304916",
     "status": "completed"
    },
    "tags": []
   },
   "source": [
    "### Fill missing values\n",
    "Fare and Embarked have few missing values, so fill them by mean (or mode)."
   ]
  },
  {
   "cell_type": "code",
   "execution_count": 6,
   "id": "bd5a54d1",
   "metadata": {
    "execution": {
     "iopub.execute_input": "2022-05-02T05:50:33.350739Z",
     "iopub.status.busy": "2022-05-02T05:50:33.350422Z",
     "iopub.status.idle": "2022-05-02T05:50:33.363665Z",
     "shell.execute_reply": "2022-05-02T05:50:33.362605Z"
    },
    "papermill": {
     "duration": 0.032015,
     "end_time": "2022-05-02T05:50:33.366041",
     "exception": false,
     "start_time": "2022-05-02T05:50:33.334026",
     "status": "completed"
    },
    "tags": []
   },
   "outputs": [],
   "source": [
    "test['Fare'] = test['Fare'].fillna(all_data['Fare'].mean())\n",
    "train['Embarked'] = train['Embarked'].fillna(all_data['Embarked'].mode()[0])"
   ]
  },
  {
   "cell_type": "markdown",
   "id": "51bc1b3f",
   "metadata": {
    "papermill": {
     "duration": 0.013919,
     "end_time": "2022-05-02T05:50:33.394452",
     "exception": false,
     "start_time": "2022-05-02T05:50:33.380533",
     "status": "completed"
    },
    "tags": []
   },
   "source": [
    "### Convert string values into numeric\n",
    "**Sex**: Male, Female -> 0, 1  \n",
    "**Embarked**: C, Q, S -> 0, 1, 2"
   ]
  },
  {
   "cell_type": "code",
   "execution_count": 7,
   "id": "53bb716e",
   "metadata": {
    "execution": {
     "iopub.execute_input": "2022-05-02T05:50:33.425049Z",
     "iopub.status.busy": "2022-05-02T05:50:33.424222Z",
     "iopub.status.idle": "2022-05-02T05:50:33.439549Z",
     "shell.execute_reply": "2022-05-02T05:50:33.438529Z"
    },
    "papermill": {
     "duration": 0.033878,
     "end_time": "2022-05-02T05:50:33.442504",
     "exception": false,
     "start_time": "2022-05-02T05:50:33.408626",
     "status": "completed"
    },
    "tags": []
   },
   "outputs": [],
   "source": [
    "train['Sex'] = train['Sex'].map({'male': 0, 'female': 1}).astype(int)\n",
    "train['Embarked'] = train['Embarked'].map({'C': 0, 'Q': 1, 'S': 2}).astype(int)\n",
    "test['Sex'] = test['Sex'].map({'male': 0, 'female': 1}).astype(int)\n",
    "test['Embarked'] = test['Embarked'].map({'C': 0, 'Q': 1, 'S': 2}).astype(int)"
   ]
  },
  {
   "cell_type": "code",
   "execution_count": 8,
   "id": "190706a5",
   "metadata": {
    "execution": {
     "iopub.execute_input": "2022-05-02T05:50:33.474014Z",
     "iopub.status.busy": "2022-05-02T05:50:33.473351Z",
     "iopub.status.idle": "2022-05-02T05:50:34.108550Z",
     "shell.execute_reply": "2022-05-02T05:50:34.107446Z"
    },
    "papermill": {
     "duration": 0.654307,
     "end_time": "2022-05-02T05:50:34.111495",
     "exception": false,
     "start_time": "2022-05-02T05:50:33.457188",
     "status": "completed"
    },
    "tags": []
   },
   "outputs": [
    {
     "data": {
      "image/png": "[encoded data removed]",
      "text/plain": [
       "<Figure size 432x288 with 2 Axes>"
      ]
     },
     "metadata": {
      "needs_background": "light"
     },
     "output_type": "display_data"
    }
   ],
   "source": [
    "p = sns.heatmap(train[[\"Survived\", \"Pclass\", \"Sex\", \"Age\", \"SibSp\", \"Parch\", \"Fare\", \"Embarked\"]].corr(),\\\n",
    "                annot=True, cmap='coolwarm', vmin=-1)"
   ]
  },
  {
   "cell_type": "code",
   "execution_count": null,
   "id": "3438a426",
   "metadata": {
    "papermill": {
     "duration": 0.01565,
     "end_time": "2022-05-02T05:50:34.143173",
     "exception": false,
     "start_time": "2022-05-02T05:50:34.127523",
     "status": "completed"
    },
    "tags": []
   },
   "outputs": [],
   "source": []
  }
 ],
 "metadata": {
  "kernelspec": {
   "display_name": "Python 3",
   "language": "python",
   "name": "python3"
  },
  "language_info": {
   "codemirror_mode": {
    "name": "ipython",
    "version": 3
   },
   "file_extension": ".py",
   "mimetype": "text/x-python",
   "name": "python",
   "nbconvert_exporter": "python",
   "pygments_lexer": "ipython3",
   "version": "3.7.12"
  },
  "papermill": {
   "default_parameters": {},
   "duration": 13.774942,
   "end_time": "2022-05-02T05:50:34.881699",
   "environment_variables": {},
   "exception": null,
   "input_path": "__notebook__.ipynb",
   "output_path": "__notebook__.ipynb",
   "parameters": {},
   "start_time": "2022-05-02T05:50:21.106757",
   "version": "2.3.4"
  }
 },
 "nbformat": 4,
 "nbformat_minor": 5
}
