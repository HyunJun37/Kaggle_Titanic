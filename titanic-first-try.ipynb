{
 "cells": [
  {
   "cell_type": "markdown",
   "id": "33a57f73",
   "metadata": {
    "papermill": {
     "duration": 0.041572,
     "end_time": "2022-05-03T10:52:52.201432",
     "exception": false,
     "start_time": "2022-05-03T10:52:52.159860",
     "status": "completed"
    },
    "tags": []
   },
   "source": [
    "# 1. EDA"
   ]
  },
  {
   "cell_type": "code",
   "execution_count": 1,
   "id": "4da799c8",
   "metadata": {
    "execution": {
     "iopub.execute_input": "2022-05-03T10:52:52.283402Z",
     "iopub.status.busy": "2022-05-03T10:52:52.282813Z",
     "iopub.status.idle": "2022-05-03T10:52:53.427398Z",
     "shell.execute_reply": "2022-05-03T10:52:53.426457Z"
    },
    "papermill": {
     "duration": 1.188517,
     "end_time": "2022-05-03T10:52:53.430105",
     "exception": false,
     "start_time": "2022-05-03T10:52:52.241588",
     "status": "completed"
    },
    "tags": []
   },
   "outputs": [],
   "source": [
    "import numpy as np\n",
    "import pandas as pd\n",
    "import matplotlib.pyplot as plt\n",
    "import seaborn as sns\n",
    "plt.style.use('seaborn')\n",
    "import missingno as msno\n",
    "\n",
    "import warnings\n",
    "warnings.filterwarnings('ignore')\n",
    "\n",
    "%matplotlib inline"
   ]
  },
  {
   "cell_type": "code",
   "execution_count": 2,
   "id": "9f636af0",
   "metadata": {
    "execution": {
     "iopub.execute_input": "2022-05-03T10:52:53.513400Z",
     "iopub.status.busy": "2022-05-03T10:52:53.512542Z",
     "iopub.status.idle": "2022-05-03T10:52:53.555039Z",
     "shell.execute_reply": "2022-05-03T10:52:53.554049Z"
    },
    "papermill": {
     "duration": 0.086762,
     "end_time": "2022-05-03T10:52:53.557583",
     "exception": false,
     "start_time": "2022-05-03T10:52:53.470821",
     "status": "completed"
    },
    "tags": []
   },
   "outputs": [],
   "source": [
    "train = pd.read_csv('../input/titanic/train.csv')\n",
    "train_len = train.shape[0]\n",
    "test = pd.read_csv('../input/titanic/test.csv')\n",
    "dataset = pd.concat([train, test]).reset_index(drop=True)"
   ]
  },
  {
   "cell_type": "code",
   "execution_count": 3,
   "id": "fc6db375",
   "metadata": {
    "execution": {
     "iopub.execute_input": "2022-05-03T10:52:53.641774Z",
     "iopub.status.busy": "2022-05-03T10:52:53.641179Z",
     "iopub.status.idle": "2022-05-03T10:52:53.663896Z",
     "shell.execute_reply": "2022-05-03T10:52:53.662474Z"
    },
    "papermill": {
     "duration": 0.066433,
     "end_time": "2022-05-03T10:52:53.666321",
     "exception": false,
     "start_time": "2022-05-03T10:52:53.599888",
     "status": "completed"
    },
    "tags": []
   },
   "outputs": [
    {
     "data": {
      "text/html": [
       "<div>\n",
       "<style scoped>\n",
       "    .dataframe tbody tr th:only-of-type {\n",
       "        vertical-align: middle;\n",
       "    }\n",
       "\n",
       "    .dataframe tbody tr th {\n",
       "        vertical-align: top;\n",
       "    }\n",
       "\n",
       "    .dataframe thead th {\n",
       "        text-align: right;\n",
       "    }\n",
       "</style>\n",
       "<table border=\"1\" class=\"dataframe\">\n",
       "  <thead>\n",
       "    <tr style=\"text-align: right;\">\n",
       "      <th></th>\n",
       "      <th>PassengerId</th>\n",
       "      <th>Survived</th>\n",
       "      <th>Pclass</th>\n",
       "      <th>Name</th>\n",
       "      <th>Sex</th>\n",
       "      <th>Age</th>\n",
       "      <th>SibSp</th>\n",
       "      <th>Parch</th>\n",
       "      <th>Ticket</th>\n",
       "      <th>Fare</th>\n",
       "      <th>Cabin</th>\n",
       "      <th>Embarked</th>\n",
       "    </tr>\n",
       "  </thead>\n",
       "  <tbody>\n",
       "    <tr>\n",
       "      <th>0</th>\n",
       "      <td>1</td>\n",
       "      <td>0</td>\n",
       "      <td>3</td>\n",
       "      <td>Braund, Mr. Owen Harris</td>\n",
       "      <td>male</td>\n",
       "      <td>22.0</td>\n",
       "      <td>1</td>\n",
       "      <td>0</td>\n",
       "      <td>A/5 21171</td>\n",
       "      <td>7.2500</td>\n",
       "      <td>NaN</td>\n",
       "      <td>S</td>\n",
       "    </tr>\n",
       "    <tr>\n",
       "      <th>1</th>\n",
       "      <td>2</td>\n",
       "      <td>1</td>\n",
       "      <td>1</td>\n",
       "      <td>Cumings, Mrs. John Bradley (Florence Briggs Th...</td>\n",
       "      <td>female</td>\n",
       "      <td>38.0</td>\n",
       "      <td>1</td>\n",
       "      <td>0</td>\n",
       "      <td>PC 17599</td>\n",
       "      <td>71.2833</td>\n",
       "      <td>C85</td>\n",
       "      <td>C</td>\n",
       "    </tr>\n",
       "    <tr>\n",
       "      <th>2</th>\n",
       "      <td>3</td>\n",
       "      <td>1</td>\n",
       "      <td>3</td>\n",
       "      <td>Heikkinen, Miss. Laina</td>\n",
       "      <td>female</td>\n",
       "      <td>26.0</td>\n",
       "      <td>0</td>\n",
       "      <td>0</td>\n",
       "      <td>STON/O2. 3101282</td>\n",
       "      <td>7.9250</td>\n",
       "      <td>NaN</td>\n",
       "      <td>S</td>\n",
       "    </tr>\n",
       "    <tr>\n",
       "      <th>3</th>\n",
       "      <td>4</td>\n",
       "      <td>1</td>\n",
       "      <td>1</td>\n",
       "      <td>Futrelle, Mrs. Jacques Heath (Lily May Peel)</td>\n",
       "      <td>female</td>\n",
       "      <td>35.0</td>\n",
       "      <td>1</td>\n",
       "      <td>0</td>\n",
       "      <td>113803</td>\n",
       "      <td>53.1000</td>\n",
       "      <td>C123</td>\n",
       "      <td>S</td>\n",
       "    </tr>\n",
       "    <tr>\n",
       "      <th>4</th>\n",
       "      <td>5</td>\n",
       "      <td>0</td>\n",
       "      <td>3</td>\n",
       "      <td>Allen, Mr. William Henry</td>\n",
       "      <td>male</td>\n",
       "      <td>35.0</td>\n",
       "      <td>0</td>\n",
       "      <td>0</td>\n",
       "      <td>373450</td>\n",
       "      <td>8.0500</td>\n",
       "      <td>NaN</td>\n",
       "      <td>S</td>\n",
       "    </tr>\n",
       "  </tbody>\n",
       "</table>\n",
       "</div>"
      ],
      "text/plain": [
       "   PassengerId  Survived  Pclass  \\\n",
       "0            1         0       3   \n",
       "1            2         1       1   \n",
       "2            3         1       3   \n",
       "3            4         1       1   \n",
       "4            5         0       3   \n",
       "\n",
       "                                                Name     Sex   Age  SibSp  \\\n",
       "0                            Braund, Mr. Owen Harris    male  22.0      1   \n",
       "1  Cumings, Mrs. John Bradley (Florence Briggs Th...  female  38.0      1   \n",
       "2                             Heikkinen, Miss. Laina  female  26.0      0   \n",
       "3       Futrelle, Mrs. Jacques Heath (Lily May Peel)  female  35.0      1   \n",
       "4                           Allen, Mr. William Henry    male  35.0      0   \n",
       "\n",
       "   Parch            Ticket     Fare Cabin Embarked  \n",
       "0      0         A/5 21171   7.2500   NaN        S  \n",
       "1      0          PC 17599  71.2833   C85        C  \n",
       "2      0  STON/O2. 3101282   7.9250   NaN        S  \n",
       "3      0            113803  53.1000  C123        S  \n",
       "4      0            373450   8.0500   NaN        S  "
      ]
     },
     "execution_count": 3,
     "metadata": {},
     "output_type": "execute_result"
    }
   ],
   "source": [
    "train.head()"
   ]
  },
  {
   "cell_type": "code",
   "execution_count": 4,
   "id": "17aecb14",
   "metadata": {
    "execution": {
     "iopub.execute_input": "2022-05-03T10:52:53.750294Z",
     "iopub.status.busy": "2022-05-03T10:52:53.750007Z",
     "iopub.status.idle": "2022-05-03T10:52:53.761354Z",
     "shell.execute_reply": "2022-05-03T10:52:53.760221Z"
    },
    "papermill": {
     "duration": 0.055978,
     "end_time": "2022-05-03T10:52:53.763447",
     "exception": false,
     "start_time": "2022-05-03T10:52:53.707469",
     "status": "completed"
    },
    "tags": []
   },
   "outputs": [
    {
     "name": "stdout",
     "output_type": "stream",
     "text": [
      "dataset has 1309 data.\n"
     ]
    },
    {
     "data": {
      "text/plain": [
       "PassengerId       0\n",
       "Survived        418\n",
       "Pclass            0\n",
       "Name              0\n",
       "Sex               0\n",
       "Age             263\n",
       "SibSp             0\n",
       "Parch             0\n",
       "Ticket            0\n",
       "Fare              1\n",
       "Cabin          1014\n",
       "Embarked          2\n",
       "dtype: int64"
      ]
     },
     "execution_count": 4,
     "metadata": {},
     "output_type": "execute_result"
    }
   ],
   "source": [
    "print(f\"dataset has {dataset.shape[0]} data.\")\n",
    "dataset.isnull().sum()"
   ]
  },
  {
   "cell_type": "code",
   "execution_count": 5,
   "id": "60fef3a5",
   "metadata": {
    "execution": {
     "iopub.execute_input": "2022-05-03T10:52:53.850787Z",
     "iopub.status.busy": "2022-05-03T10:52:53.850472Z",
     "iopub.status.idle": "2022-05-03T10:52:53.871382Z",
     "shell.execute_reply": "2022-05-03T10:52:53.870476Z"
    },
    "papermill": {
     "duration": 0.067136,
     "end_time": "2022-05-03T10:52:53.873909",
     "exception": false,
     "start_time": "2022-05-03T10:52:53.806773",
     "status": "completed"
    },
    "tags": []
   },
   "outputs": [
    {
     "name": "stdout",
     "output_type": "stream",
     "text": [
      "<class 'pandas.core.frame.DataFrame'>\n",
      "RangeIndex: 891 entries, 0 to 890\n",
      "Data columns (total 12 columns):\n",
      " #   Column       Non-Null Count  Dtype  \n",
      "---  ------       --------------  -----  \n",
      " 0   PassengerId  891 non-null    int64  \n",
      " 1   Survived     891 non-null    int64  \n",
      " 2   Pclass       891 non-null    int64  \n",
      " 3   Name         891 non-null    object \n",
      " 4   Sex          891 non-null    object \n",
      " 5   Age          714 non-null    float64\n",
      " 6   SibSp        891 non-null    int64  \n",
      " 7   Parch        891 non-null    int64  \n",
      " 8   Ticket       891 non-null    object \n",
      " 9   Fare         891 non-null    float64\n",
      " 10  Cabin        204 non-null    object \n",
      " 11  Embarked     889 non-null    object \n",
      "dtypes: float64(2), int64(5), object(5)\n",
      "memory usage: 83.7+ KB\n"
     ]
    }
   ],
   "source": [
    "train.info()"
   ]
  },
  {
   "cell_type": "code",
   "execution_count": 6,
   "id": "42aa9ace",
   "metadata": {
    "execution": {
     "iopub.execute_input": "2022-05-03T10:52:53.961279Z",
     "iopub.status.busy": "2022-05-03T10:52:53.961008Z",
     "iopub.status.idle": "2022-05-03T10:52:54.004794Z",
     "shell.execute_reply": "2022-05-03T10:52:54.004020Z"
    },
    "papermill": {
     "duration": 0.090027,
     "end_time": "2022-05-03T10:52:54.006933",
     "exception": false,
     "start_time": "2022-05-03T10:52:53.916906",
     "status": "completed"
    },
    "tags": []
   },
   "outputs": [
    {
     "data": {
      "text/html": [
       "<div>\n",
       "<style scoped>\n",
       "    .dataframe tbody tr th:only-of-type {\n",
       "        vertical-align: middle;\n",
       "    }\n",
       "\n",
       "    .dataframe tbody tr th {\n",
       "        vertical-align: top;\n",
       "    }\n",
       "\n",
       "    .dataframe thead th {\n",
       "        text-align: right;\n",
       "    }\n",
       "</style>\n",
       "<table border=\"1\" class=\"dataframe\">\n",
       "  <thead>\n",
       "    <tr style=\"text-align: right;\">\n",
       "      <th></th>\n",
       "      <th>PassengerId</th>\n",
       "      <th>Survived</th>\n",
       "      <th>Pclass</th>\n",
       "      <th>Name</th>\n",
       "      <th>Sex</th>\n",
       "      <th>Age</th>\n",
       "      <th>SibSp</th>\n",
       "      <th>Parch</th>\n",
       "      <th>Ticket</th>\n",
       "      <th>Fare</th>\n",
       "      <th>Cabin</th>\n",
       "      <th>Embarked</th>\n",
       "    </tr>\n",
       "  </thead>\n",
       "  <tbody>\n",
       "    <tr>\n",
       "      <th>count</th>\n",
       "      <td>891.000000</td>\n",
       "      <td>891.000000</td>\n",
       "      <td>891.000000</td>\n",
       "      <td>891</td>\n",
       "      <td>891</td>\n",
       "      <td>714.000000</td>\n",
       "      <td>891.000000</td>\n",
       "      <td>891.000000</td>\n",
       "      <td>891</td>\n",
       "      <td>891.000000</td>\n",
       "      <td>204</td>\n",
       "      <td>889</td>\n",
       "    </tr>\n",
       "    <tr>\n",
       "      <th>unique</th>\n",
       "      <td>NaN</td>\n",
       "      <td>NaN</td>\n",
       "      <td>NaN</td>\n",
       "      <td>891</td>\n",
       "      <td>2</td>\n",
       "      <td>NaN</td>\n",
       "      <td>NaN</td>\n",
       "      <td>NaN</td>\n",
       "      <td>681</td>\n",
       "      <td>NaN</td>\n",
       "      <td>147</td>\n",
       "      <td>3</td>\n",
       "    </tr>\n",
       "    <tr>\n",
       "      <th>top</th>\n",
       "      <td>NaN</td>\n",
       "      <td>NaN</td>\n",
       "      <td>NaN</td>\n",
       "      <td>Braund, Mr. Owen Harris</td>\n",
       "      <td>male</td>\n",
       "      <td>NaN</td>\n",
       "      <td>NaN</td>\n",
       "      <td>NaN</td>\n",
       "      <td>347082</td>\n",
       "      <td>NaN</td>\n",
       "      <td>B96 B98</td>\n",
       "      <td>S</td>\n",
       "    </tr>\n",
       "    <tr>\n",
       "      <th>freq</th>\n",
       "      <td>NaN</td>\n",
       "      <td>NaN</td>\n",
       "      <td>NaN</td>\n",
       "      <td>1</td>\n",
       "      <td>577</td>\n",
       "      <td>NaN</td>\n",
       "      <td>NaN</td>\n",
       "      <td>NaN</td>\n",
       "      <td>7</td>\n",
       "      <td>NaN</td>\n",
       "      <td>4</td>\n",
       "      <td>644</td>\n",
       "    </tr>\n",
       "    <tr>\n",
       "      <th>mean</th>\n",
       "      <td>446.000000</td>\n",
       "      <td>0.383838</td>\n",
       "      <td>2.308642</td>\n",
       "      <td>NaN</td>\n",
       "      <td>NaN</td>\n",
       "      <td>29.699118</td>\n",
       "      <td>0.523008</td>\n",
       "      <td>0.381594</td>\n",
       "      <td>NaN</td>\n",
       "      <td>32.204208</td>\n",
       "      <td>NaN</td>\n",
       "      <td>NaN</td>\n",
       "    </tr>\n",
       "    <tr>\n",
       "      <th>std</th>\n",
       "      <td>257.353842</td>\n",
       "      <td>0.486592</td>\n",
       "      <td>0.836071</td>\n",
       "      <td>NaN</td>\n",
       "      <td>NaN</td>\n",
       "      <td>14.526497</td>\n",
       "      <td>1.102743</td>\n",
       "      <td>0.806057</td>\n",
       "      <td>NaN</td>\n",
       "      <td>49.693429</td>\n",
       "      <td>NaN</td>\n",
       "      <td>NaN</td>\n",
       "    </tr>\n",
       "    <tr>\n",
       "      <th>min</th>\n",
       "      <td>1.000000</td>\n",
       "      <td>0.000000</td>\n",
       "      <td>1.000000</td>\n",
       "      <td>NaN</td>\n",
       "      <td>NaN</td>\n",
       "      <td>0.420000</td>\n",
       "      <td>0.000000</td>\n",
       "      <td>0.000000</td>\n",
       "      <td>NaN</td>\n",
       "      <td>0.000000</td>\n",
       "      <td>NaN</td>\n",
       "      <td>NaN</td>\n",
       "    </tr>\n",
       "    <tr>\n",
       "      <th>25%</th>\n",
       "      <td>223.500000</td>\n",
       "      <td>0.000000</td>\n",
       "      <td>2.000000</td>\n",
       "      <td>NaN</td>\n",
       "      <td>NaN</td>\n",
       "      <td>20.125000</td>\n",
       "      <td>0.000000</td>\n",
       "      <td>0.000000</td>\n",
       "      <td>NaN</td>\n",
       "      <td>7.910400</td>\n",
       "      <td>NaN</td>\n",
       "      <td>NaN</td>\n",
       "    </tr>\n",
       "    <tr>\n",
       "      <th>50%</th>\n",
       "      <td>446.000000</td>\n",
       "      <td>0.000000</td>\n",
       "      <td>3.000000</td>\n",
       "      <td>NaN</td>\n",
       "      <td>NaN</td>\n",
       "      <td>28.000000</td>\n",
       "      <td>0.000000</td>\n",
       "      <td>0.000000</td>\n",
       "      <td>NaN</td>\n",
       "      <td>14.454200</td>\n",
       "      <td>NaN</td>\n",
       "      <td>NaN</td>\n",
       "    </tr>\n",
       "    <tr>\n",
       "      <th>75%</th>\n",
       "      <td>668.500000</td>\n",
       "      <td>1.000000</td>\n",
       "      <td>3.000000</td>\n",
       "      <td>NaN</td>\n",
       "      <td>NaN</td>\n",
       "      <td>38.000000</td>\n",
       "      <td>1.000000</td>\n",
       "      <td>0.000000</td>\n",
       "      <td>NaN</td>\n",
       "      <td>31.000000</td>\n",
       "      <td>NaN</td>\n",
       "      <td>NaN</td>\n",
       "    </tr>\n",
       "    <tr>\n",
       "      <th>max</th>\n",
       "      <td>891.000000</td>\n",
       "      <td>1.000000</td>\n",
       "      <td>3.000000</td>\n",
       "      <td>NaN</td>\n",
       "      <td>NaN</td>\n",
       "      <td>80.000000</td>\n",
       "      <td>8.000000</td>\n",
       "      <td>6.000000</td>\n",
       "      <td>NaN</td>\n",
       "      <td>512.329200</td>\n",
       "      <td>NaN</td>\n",
       "      <td>NaN</td>\n",
       "    </tr>\n",
       "  </tbody>\n",
       "</table>\n",
       "</div>"
      ],
      "text/plain": [
       "        PassengerId    Survived      Pclass                     Name   Sex  \\\n",
       "count    891.000000  891.000000  891.000000                      891   891   \n",
       "unique          NaN         NaN         NaN                      891     2   \n",
       "top             NaN         NaN         NaN  Braund, Mr. Owen Harris  male   \n",
       "freq            NaN         NaN         NaN                        1   577   \n",
       "mean     446.000000    0.383838    2.308642                      NaN   NaN   \n",
       "std      257.353842    0.486592    0.836071                      NaN   NaN   \n",
       "min        1.000000    0.000000    1.000000                      NaN   NaN   \n",
       "25%      223.500000    0.000000    2.000000                      NaN   NaN   \n",
       "50%      446.000000    0.000000    3.000000                      NaN   NaN   \n",
       "75%      668.500000    1.000000    3.000000                      NaN   NaN   \n",
       "max      891.000000    1.000000    3.000000                      NaN   NaN   \n",
       "\n",
       "               Age       SibSp       Parch  Ticket        Fare    Cabin  \\\n",
       "count   714.000000  891.000000  891.000000     891  891.000000      204   \n",
       "unique         NaN         NaN         NaN     681         NaN      147   \n",
       "top            NaN         NaN         NaN  347082         NaN  B96 B98   \n",
       "freq           NaN         NaN         NaN       7         NaN        4   \n",
       "mean     29.699118    0.523008    0.381594     NaN   32.204208      NaN   \n",
       "std      14.526497    1.102743    0.806057     NaN   49.693429      NaN   \n",
       "min       0.420000    0.000000    0.000000     NaN    0.000000      NaN   \n",
       "25%      20.125000    0.000000    0.000000     NaN    7.910400      NaN   \n",
       "50%      28.000000    0.000000    0.000000     NaN   14.454200      NaN   \n",
       "75%      38.000000    1.000000    0.000000     NaN   31.000000      NaN   \n",
       "max      80.000000    8.000000    6.000000     NaN  512.329200      NaN   \n",
       "\n",
       "       Embarked  \n",
       "count       889  \n",
       "unique        3  \n",
       "top           S  \n",
       "freq        644  \n",
       "mean        NaN  \n",
       "std         NaN  \n",
       "min         NaN  \n",
       "25%         NaN  \n",
       "50%         NaN  \n",
       "75%         NaN  \n",
       "max         NaN  "
      ]
     },
     "execution_count": 6,
     "metadata": {},
     "output_type": "execute_result"
    }
   ],
   "source": [
    "train.describe(include='all')"
   ]
  },
  {
   "cell_type": "markdown",
   "id": "0ec2f7bd",
   "metadata": {
    "papermill": {
     "duration": 0.044467,
     "end_time": "2022-05-03T10:52:54.094807",
     "exception": false,
     "start_time": "2022-05-03T10:52:54.050340",
     "status": "completed"
    },
    "tags": []
   },
   "source": [
    "### 1) Categorical Data"
   ]
  },
  {
   "cell_type": "markdown",
   "id": "de879500",
   "metadata": {
    "papermill": {
     "duration": 0.042292,
     "end_time": "2022-05-03T10:52:54.181578",
     "exception": false,
     "start_time": "2022-05-03T10:52:54.139286",
     "status": "completed"
    },
    "tags": []
   },
   "source": [
    "**Sex**"
   ]
  },
  {
   "cell_type": "code",
   "execution_count": 7,
   "id": "879ade4e",
   "metadata": {
    "execution": {
     "iopub.execute_input": "2022-05-03T10:52:54.269331Z",
     "iopub.status.busy": "2022-05-03T10:52:54.268625Z",
     "iopub.status.idle": "2022-05-03T10:52:54.689444Z",
     "shell.execute_reply": "2022-05-03T10:52:54.688495Z"
    },
    "papermill": {
     "duration": 0.466901,
     "end_time": "2022-05-03T10:52:54.691480",
     "exception": false,
     "start_time": "2022-05-03T10:52:54.224579",
     "status": "completed"
    },
    "tags": []
   },
   "outputs": [
    {
     "data": {
      "image/png": "[encoded data removed]",
      "text/plain": [
       "<Figure size 432x288 with 2 Axes>"
      ]
     },
     "metadata": {
      "needs_background": "light"
     },
     "output_type": "display_data"
    }
   ],
   "source": [
    "f, ax = plt.subplots(1, 2, constrained_layout=True)\n",
    "f = sns.countplot(x=\"Sex\", data=train, ax=ax[0])\n",
    "f = sns.barplot(x=\"Sex\", y=\"Survived\", data=train, ax=ax[1])"
   ]
  },
  {
   "cell_type": "markdown",
   "id": "b69600d1",
   "metadata": {
    "papermill": {
     "duration": 0.044901,
     "end_time": "2022-05-03T10:52:54.779927",
     "exception": false,
     "start_time": "2022-05-03T10:52:54.735026",
     "status": "completed"
    },
    "tags": []
   },
   "source": [
    "Female survived more than male."
   ]
  },
  {
   "cell_type": "code",
   "execution_count": 8,
   "id": "425b5bc5",
   "metadata": {
    "execution": {
     "iopub.execute_input": "2022-05-03T10:52:54.869955Z",
     "iopub.status.busy": "2022-05-03T10:52:54.869645Z",
     "iopub.status.idle": "2022-05-03T10:52:54.875570Z",
     "shell.execute_reply": "2022-05-03T10:52:54.874910Z"
    },
    "papermill": {
     "duration": 0.053907,
     "end_time": "2022-05-03T10:52:54.877541",
     "exception": false,
     "start_time": "2022-05-03T10:52:54.823634",
     "status": "completed"
    },
    "tags": []
   },
   "outputs": [],
   "source": [
    "# Convert categorical values to numerical\n",
    "dataset[\"Sex\"] = dataset[\"Sex\"].map({\"male\": 0, \"female\": 1}).astype(int)"
   ]
  },
  {
   "cell_type": "markdown",
   "id": "038dd812",
   "metadata": {
    "papermill": {
     "duration": 0.045689,
     "end_time": "2022-05-03T10:52:54.967697",
     "exception": false,
     "start_time": "2022-05-03T10:52:54.922008",
     "status": "completed"
    },
    "tags": []
   },
   "source": [
    "**Pclass**"
   ]
  },
  {
   "cell_type": "code",
   "execution_count": 9,
   "id": "9b63cddd",
   "metadata": {
    "execution": {
     "iopub.execute_input": "2022-05-03T10:52:55.057596Z",
     "iopub.status.busy": "2022-05-03T10:52:55.057125Z",
     "iopub.status.idle": "2022-05-03T10:52:55.879274Z",
     "shell.execute_reply": "2022-05-03T10:52:55.878135Z"
    },
    "papermill": {
     "duration": 0.869821,
     "end_time": "2022-05-03T10:52:55.881497",
     "exception": false,
     "start_time": "2022-05-03T10:52:55.011676",
     "status": "completed"
    },
    "tags": []
   },
   "outputs": [
    {
     "data": {
      "image/png": "[encoded data removed]",
      "text/plain": [
       "<Figure size 1296x360 with 3 Axes>"
      ]
     },
     "metadata": {
      "needs_background": "light"
     },
     "output_type": "display_data"
    }
   ],
   "source": [
    "f, ax = plt.subplots(1, 3, constrained_layout=True, figsize=(18, 5))\n",
    "f = sns.countplot(x=\"Pclass\", data=train, ax=ax[0])\n",
    "f = sns.barplot(x=\"Pclass\", y=\"Survived\", data=train, ax=ax[1])\n",
    "f = sns.barplot(x=\"Pclass\", y=\"Survived\", hue=\"Sex\", data=train, ax=ax[2])"
   ]
  },
  {
   "cell_type": "markdown",
   "id": "2c4d9bf6",
   "metadata": {
    "papermill": {
     "duration": 0.045893,
     "end_time": "2022-05-03T10:52:55.972688",
     "exception": false,
     "start_time": "2022-05-03T10:52:55.926795",
     "status": "completed"
    },
    "tags": []
   },
   "source": [
    "For both male and female, upper class survived more."
   ]
  },
  {
   "cell_type": "markdown",
   "id": "2f21bb2a",
   "metadata": {
    "papermill": {
     "duration": 0.044377,
     "end_time": "2022-05-03T10:52:56.062413",
     "exception": false,
     "start_time": "2022-05-03T10:52:56.018036",
     "status": "completed"
    },
    "tags": []
   },
   "source": [
    "**Embarked**"
   ]
  },
  {
   "cell_type": "code",
   "execution_count": 10,
   "id": "29658e00",
   "metadata": {
    "execution": {
     "iopub.execute_input": "2022-05-03T10:52:56.154330Z",
     "iopub.status.busy": "2022-05-03T10:52:56.154070Z",
     "iopub.status.idle": "2022-05-03T10:52:56.160464Z",
     "shell.execute_reply": "2022-05-03T10:52:56.159828Z"
    },
    "papermill": {
     "duration": 0.053653,
     "end_time": "2022-05-03T10:52:56.162070",
     "exception": false,
     "start_time": "2022-05-03T10:52:56.108417",
     "status": "completed"
    },
    "tags": []
   },
   "outputs": [
    {
     "data": {
      "text/plain": [
       "2"
      ]
     },
     "execution_count": 10,
     "metadata": {},
     "output_type": "execute_result"
    }
   ],
   "source": [
    "dataset[\"Embarked\"].isnull().sum()"
   ]
  },
  {
   "cell_type": "markdown",
   "id": "430ebc9d",
   "metadata": {
    "papermill": {
     "duration": 0.044719,
     "end_time": "2022-05-03T10:52:56.251569",
     "exception": false,
     "start_time": "2022-05-03T10:52:56.206850",
     "status": "completed"
    },
    "tags": []
   },
   "source": [
    "Since Embarked data has 2 missing values, fill them by mode."
   ]
  },
  {
   "cell_type": "code",
   "execution_count": 11,
   "id": "105d5276",
   "metadata": {
    "execution": {
     "iopub.execute_input": "2022-05-03T10:52:56.343200Z",
     "iopub.status.busy": "2022-05-03T10:52:56.342675Z",
     "iopub.status.idle": "2022-05-03T10:52:56.348130Z",
     "shell.execute_reply": "2022-05-03T10:52:56.347462Z"
    },
    "papermill": {
     "duration": 0.054095,
     "end_time": "2022-05-03T10:52:56.350266",
     "exception": false,
     "start_time": "2022-05-03T10:52:56.296171",
     "status": "completed"
    },
    "tags": []
   },
   "outputs": [],
   "source": [
    "dataset[\"Embarked\"] = dataset[\"Embarked\"].fillna(dataset[\"Embarked\"].mode()[0])"
   ]
  },
  {
   "cell_type": "code",
   "execution_count": 12,
   "id": "5012526b",
   "metadata": {
    "execution": {
     "iopub.execute_input": "2022-05-03T10:52:56.445016Z",
     "iopub.status.busy": "2022-05-03T10:52:56.444224Z",
     "iopub.status.idle": "2022-05-03T10:52:57.087873Z",
     "shell.execute_reply": "2022-05-03T10:52:57.086975Z"
    },
    "papermill": {
     "duration": 0.694745,
     "end_time": "2022-05-03T10:52:57.090500",
     "exception": false,
     "start_time": "2022-05-03T10:52:56.395755",
     "status": "completed"
    },
    "tags": []
   },
   "outputs": [
    {
     "data": {
      "image/png": "[encoded data removed]",
      "text/plain": [
       "<Figure size 1152x360 with 3 Axes>"
      ]
     },
     "metadata": {
      "needs_background": "light"
     },
     "output_type": "display_data"
    }
   ],
   "source": [
    "f, ax = plt.subplots(1, 3, constrained_layout=True, figsize=(16, 5))\n",
    "f = sns.countplot(x=\"Embarked\", data=train, ax=ax[0])\n",
    "f = sns.barplot(x=\"Embarked\", y=\"Survived\", data=train, ax=ax[1])\n",
    "f = sns.countplot(x=\"Embarked\", hue=\"Pclass\", data=train, ax=ax[2])"
   ]
  },
  {
   "cell_type": "markdown",
   "id": "c038ee6b",
   "metadata": {
    "papermill": {
     "duration": 0.0457,
     "end_time": "2022-05-03T10:52:57.182173",
     "exception": false,
     "start_time": "2022-05-03T10:52:57.136473",
     "status": "completed"
    },
    "tags": []
   },
   "source": [
    "Passengers from Cherbourg survived more. It is because of high rate of 1st class in C passengers."
   ]
  },
  {
   "cell_type": "code",
   "execution_count": 13,
   "id": "4dab9e5f",
   "metadata": {
    "execution": {
     "iopub.execute_input": "2022-05-03T10:52:57.276122Z",
     "iopub.status.busy": "2022-05-03T10:52:57.275573Z",
     "iopub.status.idle": "2022-05-03T10:52:57.281813Z",
     "shell.execute_reply": "2022-05-03T10:52:57.281074Z"
    },
    "papermill": {
     "duration": 0.055495,
     "end_time": "2022-05-03T10:52:57.283872",
     "exception": false,
     "start_time": "2022-05-03T10:52:57.228377",
     "status": "completed"
    },
    "tags": []
   },
   "outputs": [],
   "source": [
    "# Convert categorical values to numerical\n",
    "dataset[\"Embarked\"] = dataset[\"Embarked\"].map({\"S\": 0, \"C\": 1, \"Q\": 2}).astype(int)"
   ]
  },
  {
   "cell_type": "markdown",
   "id": "bffe5a92",
   "metadata": {
    "papermill": {
     "duration": 0.047,
     "end_time": "2022-05-03T10:52:57.376649",
     "exception": false,
     "start_time": "2022-05-03T10:52:57.329649",
     "status": "completed"
    },
    "tags": []
   },
   "source": [
    "**Name**"
   ]
  },
  {
   "cell_type": "markdown",
   "id": "be3733ff",
   "metadata": {
    "papermill": {
     "duration": 0.045565,
     "end_time": "2022-05-03T10:52:57.467719",
     "exception": false,
     "start_time": "2022-05-03T10:52:57.422154",
     "status": "completed"
    },
    "tags": []
   },
   "source": [
    "Extract title from name data."
   ]
  },
  {
   "cell_type": "code",
   "execution_count": 14,
   "id": "3719f0ed",
   "metadata": {
    "execution": {
     "iopub.execute_input": "2022-05-03T10:52:57.560661Z",
     "iopub.status.busy": "2022-05-03T10:52:57.560372Z",
     "iopub.status.idle": "2022-05-03T10:52:57.570338Z",
     "shell.execute_reply": "2022-05-03T10:52:57.569556Z"
    },
    "papermill": {
     "duration": 0.058723,
     "end_time": "2022-05-03T10:52:57.572193",
     "exception": false,
     "start_time": "2022-05-03T10:52:57.513470",
     "status": "completed"
    },
    "tags": []
   },
   "outputs": [
    {
     "data": {
      "text/plain": [
       "array(['Mr', 'Mrs', 'Miss', 'Master', 'Don', 'Rev', 'Dr', 'Mme', 'Ms',\n",
       "       'Major', 'Lady', 'Sir', 'Mlle', 'Col', 'Capt', 'the Countess',\n",
       "       'Jonkheer', 'Dona'], dtype=object)"
      ]
     },
     "execution_count": 14,
     "metadata": {},
     "output_type": "execute_result"
    }
   ],
   "source": [
    "title = [x.split(',')[1].split(\".\")[0].strip() for x in dataset[\"Name\"]]\n",
    "dataset[\"Title\"] = pd.Series(title)\n",
    "dataset[\"Title\"].unique()"
   ]
  },
  {
   "cell_type": "code",
   "execution_count": 15,
   "id": "feb65e6c",
   "metadata": {
    "execution": {
     "iopub.execute_input": "2022-05-03T10:52:57.665419Z",
     "iopub.status.busy": "2022-05-03T10:52:57.665141Z",
     "iopub.status.idle": "2022-05-03T10:52:57.698531Z",
     "shell.execute_reply": "2022-05-03T10:52:57.697681Z"
    },
    "papermill": {
     "duration": 0.082707,
     "end_time": "2022-05-03T10:52:57.700637",
     "exception": false,
     "start_time": "2022-05-03T10:52:57.617930",
     "status": "completed"
    },
    "tags": []
   },
   "outputs": [
    {
     "data": {
      "text/html": [
       "<div>\n",
       "<style scoped>\n",
       "    .dataframe tbody tr th:only-of-type {\n",
       "        vertical-align: middle;\n",
       "    }\n",
       "\n",
       "    .dataframe tbody tr th {\n",
       "        vertical-align: top;\n",
       "    }\n",
       "\n",
       "    .dataframe thead th {\n",
       "        text-align: right;\n",
       "    }\n",
       "</style>\n",
       "<table border=\"1\" class=\"dataframe\">\n",
       "  <thead>\n",
       "    <tr style=\"text-align: right;\">\n",
       "      <th>Title</th>\n",
       "      <th>Capt</th>\n",
       "      <th>Col</th>\n",
       "      <th>Don</th>\n",
       "      <th>Dona</th>\n",
       "      <th>Dr</th>\n",
       "      <th>Jonkheer</th>\n",
       "      <th>Lady</th>\n",
       "      <th>Major</th>\n",
       "      <th>Master</th>\n",
       "      <th>Miss</th>\n",
       "      <th>Mlle</th>\n",
       "      <th>Mme</th>\n",
       "      <th>Mr</th>\n",
       "      <th>Mrs</th>\n",
       "      <th>Ms</th>\n",
       "      <th>Rev</th>\n",
       "      <th>Sir</th>\n",
       "      <th>the Countess</th>\n",
       "    </tr>\n",
       "    <tr>\n",
       "      <th>Sex</th>\n",
       "      <th></th>\n",
       "      <th></th>\n",
       "      <th></th>\n",
       "      <th></th>\n",
       "      <th></th>\n",
       "      <th></th>\n",
       "      <th></th>\n",
       "      <th></th>\n",
       "      <th></th>\n",
       "      <th></th>\n",
       "      <th></th>\n",
       "      <th></th>\n",
       "      <th></th>\n",
       "      <th></th>\n",
       "      <th></th>\n",
       "      <th></th>\n",
       "      <th></th>\n",
       "      <th></th>\n",
       "    </tr>\n",
       "  </thead>\n",
       "  <tbody>\n",
       "    <tr>\n",
       "      <th>0</th>\n",
       "      <td>1</td>\n",
       "      <td>4</td>\n",
       "      <td>1</td>\n",
       "      <td>0</td>\n",
       "      <td>7</td>\n",
       "      <td>1</td>\n",
       "      <td>0</td>\n",
       "      <td>2</td>\n",
       "      <td>61</td>\n",
       "      <td>0</td>\n",
       "      <td>0</td>\n",
       "      <td>0</td>\n",
       "      <td>757</td>\n",
       "      <td>0</td>\n",
       "      <td>0</td>\n",
       "      <td>8</td>\n",
       "      <td>1</td>\n",
       "      <td>0</td>\n",
       "    </tr>\n",
       "    <tr>\n",
       "      <th>1</th>\n",
       "      <td>0</td>\n",
       "      <td>0</td>\n",
       "      <td>0</td>\n",
       "      <td>1</td>\n",
       "      <td>1</td>\n",
       "      <td>0</td>\n",
       "      <td>1</td>\n",
       "      <td>0</td>\n",
       "      <td>0</td>\n",
       "      <td>260</td>\n",
       "      <td>2</td>\n",
       "      <td>1</td>\n",
       "      <td>0</td>\n",
       "      <td>197</td>\n",
       "      <td>2</td>\n",
       "      <td>0</td>\n",
       "      <td>0</td>\n",
       "      <td>1</td>\n",
       "    </tr>\n",
       "  </tbody>\n",
       "</table>\n",
       "</div>"
      ],
      "text/plain": [
       "Title  Capt  Col  Don  Dona  Dr  Jonkheer  Lady  Major  Master  Miss  Mlle  \\\n",
       "Sex                                                                          \n",
       "0         1    4    1     0   7         1     0      2      61     0     0   \n",
       "1         0    0    0     1   1         0     1      0       0   260     2   \n",
       "\n",
       "Title  Mme   Mr  Mrs  Ms  Rev  Sir  the Countess  \n",
       "Sex                                               \n",
       "0        0  757    0   0    8    1             0  \n",
       "1        1    0  197   2    0    0             1  "
      ]
     },
     "execution_count": 15,
     "metadata": {},
     "output_type": "execute_result"
    }
   ],
   "source": [
    "pd.crosstab(dataset[\"Sex\"], dataset[\"Title\"])"
   ]
  },
  {
   "cell_type": "code",
   "execution_count": 16,
   "id": "ce5e8a19",
   "metadata": {
    "execution": {
     "iopub.execute_input": "2022-05-03T10:52:57.798689Z",
     "iopub.status.busy": "2022-05-03T10:52:57.798390Z",
     "iopub.status.idle": "2022-05-03T10:52:58.227962Z",
     "shell.execute_reply": "2022-05-03T10:52:58.227421Z"
    },
    "papermill": {
     "duration": 0.481407,
     "end_time": "2022-05-03T10:52:58.229764",
     "exception": false,
     "start_time": "2022-05-03T10:52:57.748357",
     "status": "completed"
    },
    "tags": []
   },
   "outputs": [
    {
     "data": {
      "image/png": "[encoded data removed]",
      "text/plain": [
       "<Figure size 1296x360 with 1 Axes>"
      ]
     },
     "metadata": {
      "needs_background": "light"
     },
     "output_type": "display_data"
    }
   ],
   "source": [
    "f = plt.figure(figsize=(18, 5))\n",
    "f = sns.boxplot(x=\"Title\", y=\"Age\", data=dataset)"
   ]
  },
  {
   "cell_type": "markdown",
   "id": "e21ca644",
   "metadata": {
    "papermill": {
     "duration": 0.047817,
     "end_time": "2022-05-03T10:52:58.325212",
     "exception": false,
     "start_time": "2022-05-03T10:52:58.277395",
     "status": "completed"
    },
    "tags": []
   },
   "source": [
    "Categorize rare titles into [Mr, Mrs, Miss, Master]  \n",
    "Capt, Col, Don, Dr, Jonkheer, Major, Rev, Sir -> Mr  \n",
    "Mlle, Ms, Lady -> Miss  \n",
    "Mme, the Countess, Dona -> Mrs"
   ]
  },
  {
   "cell_type": "code",
   "execution_count": 17,
   "id": "3894a7d2",
   "metadata": {
    "execution": {
     "iopub.execute_input": "2022-05-03T10:52:58.422560Z",
     "iopub.status.busy": "2022-05-03T10:52:58.421711Z",
     "iopub.status.idle": "2022-05-03T10:52:58.430213Z",
     "shell.execute_reply": "2022-05-03T10:52:58.429602Z"
    },
    "papermill": {
     "duration": 0.059241,
     "end_time": "2022-05-03T10:52:58.432136",
     "exception": false,
     "start_time": "2022-05-03T10:52:58.372895",
     "status": "completed"
    },
    "tags": []
   },
   "outputs": [],
   "source": [
    "dataset[\"Title\"] = dataset[\"Title\"].replace([\"Capt\", \"Col\", \"Don\", \"Dr\", \"Jonkheer\", \"Major\", \"Rev\",\\\n",
    "                                             \"Sir\", \"Mlle\", \"Ms\", \"Lady\", \"Mme\", \"the Countess\", \"Dona\"],\n",
    "                                           [\"Mr\"] * 8 + [\"Miss\"] * 3 + [\"Mrs\"] * 3)"
   ]
  },
  {
   "cell_type": "code",
   "execution_count": 18,
   "id": "34e2dfe2",
   "metadata": {
    "execution": {
     "iopub.execute_input": "2022-05-03T10:52:58.530272Z",
     "iopub.status.busy": "2022-05-03T10:52:58.529418Z",
     "iopub.status.idle": "2022-05-03T10:52:59.171847Z",
     "shell.execute_reply": "2022-05-03T10:52:59.171224Z"
    },
    "papermill": {
     "duration": 0.693942,
     "end_time": "2022-05-03T10:52:59.173945",
     "exception": false,
     "start_time": "2022-05-03T10:52:58.480003",
     "status": "completed"
    },
    "tags": []
   },
   "outputs": [
    {
     "data": {
      "image/png": "[encoded data removed]",
      "text/plain": [
       "<Figure size 432x288 with 2 Axes>"
      ]
     },
     "metadata": {
      "needs_background": "light"
     },
     "output_type": "display_data"
    }
   ],
   "source": [
    "f, ax = plt.subplots(1, 2, constrained_layout=True)\n",
    "f = sns.countplot(x=\"Title\", data=dataset, ax=ax[0])\n",
    "f = sns.barplot(x=\"Title\", y=\"Survived\", data=dataset[:train_len], ax=ax[1])"
   ]
  },
  {
   "cell_type": "markdown",
   "id": "b9223c88",
   "metadata": {
    "papermill": {
     "duration": 0.048727,
     "end_time": "2022-05-03T10:52:59.271729",
     "exception": false,
     "start_time": "2022-05-03T10:52:59.223002",
     "status": "completed"
    },
    "tags": []
   },
   "source": [
    "Women and children first."
   ]
  },
  {
   "cell_type": "code",
   "execution_count": 19,
   "id": "28a2b6bf",
   "metadata": {
    "execution": {
     "iopub.execute_input": "2022-05-03T10:52:59.372076Z",
     "iopub.status.busy": "2022-05-03T10:52:59.371795Z",
     "iopub.status.idle": "2022-05-03T10:52:59.378447Z",
     "shell.execute_reply": "2022-05-03T10:52:59.377545Z"
    },
    "papermill": {
     "duration": 0.059251,
     "end_time": "2022-05-03T10:52:59.380432",
     "exception": false,
     "start_time": "2022-05-03T10:52:59.321181",
     "status": "completed"
    },
    "tags": []
   },
   "outputs": [],
   "source": [
    "# Convert categorical values to numerical\n",
    "dataset[\"Title\"] = dataset[\"Title\"].map({\"Master\": 0, \"Mr\": 1, \"Mrs\": 2, \"Miss\": 3}).astype(int)"
   ]
  },
  {
   "cell_type": "markdown",
   "id": "9d375916",
   "metadata": {
    "papermill": {
     "duration": 0.048497,
     "end_time": "2022-05-03T10:52:59.477979",
     "exception": false,
     "start_time": "2022-05-03T10:52:59.429482",
     "status": "completed"
    },
    "tags": []
   },
   "source": [
    "**Ticket**"
   ]
  },
  {
   "cell_type": "code",
   "execution_count": 20,
   "id": "ecf195b6",
   "metadata": {
    "execution": {
     "iopub.execute_input": "2022-05-03T10:52:59.577457Z",
     "iopub.status.busy": "2022-05-03T10:52:59.577164Z",
     "iopub.status.idle": "2022-05-03T10:52:59.584438Z",
     "shell.execute_reply": "2022-05-03T10:52:59.583583Z"
    },
    "papermill": {
     "duration": 0.060299,
     "end_time": "2022-05-03T10:52:59.587003",
     "exception": false,
     "start_time": "2022-05-03T10:52:59.526704",
     "status": "completed"
    },
    "tags": []
   },
   "outputs": [
    {
     "data": {
      "text/plain": [
       "array(['A/5 21171', 'PC 17599', 'STON/O2. 3101282', '113803', '373450',\n",
       "       '330877', '17463', '349909', '347742', '237736'], dtype=object)"
      ]
     },
     "execution_count": 20,
     "metadata": {},
     "output_type": "execute_result"
    }
   ],
   "source": [
    "dataset[\"Ticket\"].unique()[:10]"
   ]
  },
  {
   "cell_type": "markdown",
   "id": "6c4ccdc9",
   "metadata": {
    "papermill": {
     "duration": 0.051657,
     "end_time": "2022-05-03T10:52:59.688653",
     "exception": false,
     "start_time": "2022-05-03T10:52:59.636996",
     "status": "completed"
    },
    "tags": []
   },
   "source": [
    "Let Ticket_no be number in ticket. If there is no number, input mode."
   ]
  },
  {
   "cell_type": "code",
   "execution_count": 21,
   "id": "7b811703",
   "metadata": {
    "execution": {
     "iopub.execute_input": "2022-05-03T10:52:59.789199Z",
     "iopub.status.busy": "2022-05-03T10:52:59.788776Z",
     "iopub.status.idle": "2022-05-03T10:52:59.795043Z",
     "shell.execute_reply": "2022-05-03T10:52:59.794401Z"
    },
    "papermill": {
     "duration": 0.059174,
     "end_time": "2022-05-03T10:52:59.797066",
     "exception": false,
     "start_time": "2022-05-03T10:52:59.737892",
     "status": "completed"
    },
    "tags": []
   },
   "outputs": [],
   "source": [
    "dataset[\"Ticket_no\"] = dataset[\"Ticket\"].apply(lambda x: x.split()[-1])"
   ]
  },
  {
   "cell_type": "code",
   "execution_count": 22,
   "id": "f2bd5485",
   "metadata": {
    "execution": {
     "iopub.execute_input": "2022-05-03T10:52:59.898483Z",
     "iopub.status.busy": "2022-05-03T10:52:59.898082Z",
     "iopub.status.idle": "2022-05-03T10:52:59.904833Z",
     "shell.execute_reply": "2022-05-03T10:52:59.904161Z"
    },
    "papermill": {
     "duration": 0.059611,
     "end_time": "2022-05-03T10:52:59.906861",
     "exception": false,
     "start_time": "2022-05-03T10:52:59.847250",
     "status": "completed"
    },
    "tags": []
   },
   "outputs": [],
   "source": [
    "dataset[\"Ticket_no\"] = dataset[\"Ticket_no\"].replace(\"LINE\", dataset[\"Ticket_no\"].mode()[0]).astype(int)"
   ]
  },
  {
   "cell_type": "code",
   "execution_count": 23,
   "id": "4f0fa752",
   "metadata": {
    "execution": {
     "iopub.execute_input": "2022-05-03T10:53:00.007502Z",
     "iopub.status.busy": "2022-05-03T10:53:00.007079Z",
     "iopub.status.idle": "2022-05-03T10:53:00.893788Z",
     "shell.execute_reply": "2022-05-03T10:53:00.892757Z"
    },
    "papermill": {
     "duration": 0.939834,
     "end_time": "2022-05-03T10:53:00.895962",
     "exception": false,
     "start_time": "2022-05-03T10:52:59.956128",
     "status": "completed"
    },
    "tags": []
   },
   "outputs": [
    {
     "data": {
      "image/png": "[encoded data removed]",
      "text/plain": [
       "<Figure size 1152x720 with 4 Axes>"
      ]
     },
     "metadata": {
      "needs_background": "light"
     },
     "output_type": "display_data"
    }
   ],
   "source": [
    "f, ax = plt.subplots(2, 2, figsize=(16, 10))\n",
    "f = sns.countplot(x=dataset[\"Ticket_no\"][:train_len].apply(lambda x: str(x)[0]),\\\n",
    "                  hue=dataset[\"Survived\"][:train_len], ax=ax[0][0])\n",
    "f = ax[0][0].set(xlabel=\"Ticket_no Leading\")\n",
    "f = sns.countplot(x=dataset[\"Ticket_no\"].apply(lambda x: str(x)[0]),\\\n",
    "                  hue=dataset[\"Pclass\"], ax=ax[0][1])\n",
    "f = ax[0][1].set(xlabel=\"Ticket_no Leading\")\n",
    "f = sns.countplot(x=dataset[\"Ticket_no\"][:train_len].apply(lambda x: len(str(x))),\\\n",
    "                  hue=dataset[\"Survived\"][:train_len], ax=ax[1][0])\n",
    "f = ax[1][0].set(xlabel=\"Ticket_no Length\")\n",
    "f = sns.countplot(x=dataset[\"Ticket_no\"].apply(lambda x: len(str(x))),\\\n",
    "                  hue=dataset[\"Pclass\"], ax=ax[1][1])\n",
    "f = ax[1][1].set(xlabel=\"Ticket_no Length\")"
   ]
  },
  {
   "cell_type": "markdown",
   "id": "7f0052cb",
   "metadata": {
    "papermill": {
     "duration": 0.050027,
     "end_time": "2022-05-03T10:53:00.997500",
     "exception": false,
     "start_time": "2022-05-03T10:53:00.947473",
     "status": "completed"
    },
    "tags": []
   },
   "source": [
    "When leading number is 1 or length is 5, survived more. It is because first class is the most at that cases."
   ]
  },
  {
   "cell_type": "markdown",
   "id": "362e7a69",
   "metadata": {
    "papermill": {
     "duration": 0.051411,
     "end_time": "2022-05-03T10:53:01.100256",
     "exception": false,
     "start_time": "2022-05-03T10:53:01.048845",
     "status": "completed"
    },
    "tags": []
   },
   "source": [
    "**Cabin**"
   ]
  },
  {
   "cell_type": "markdown",
   "id": "62380295",
   "metadata": {
    "papermill": {
     "duration": 0.050029,
     "end_time": "2022-05-03T10:53:01.200703",
     "exception": false,
     "start_time": "2022-05-03T10:53:01.150674",
     "status": "completed"
    },
    "tags": []
   },
   "source": [
    "Extract head of cabin."
   ]
  },
  {
   "cell_type": "code",
   "execution_count": 24,
   "id": "6cc53dda",
   "metadata": {
    "execution": {
     "iopub.execute_input": "2022-05-03T10:53:01.303025Z",
     "iopub.status.busy": "2022-05-03T10:53:01.302749Z",
     "iopub.status.idle": "2022-05-03T10:53:01.309696Z",
     "shell.execute_reply": "2022-05-03T10:53:01.308662Z"
    },
    "papermill": {
     "duration": 0.06041,
     "end_time": "2022-05-03T10:53:01.311744",
     "exception": false,
     "start_time": "2022-05-03T10:53:01.251334",
     "status": "completed"
    },
    "tags": []
   },
   "outputs": [],
   "source": [
    "dataset[\"Cabin_head\"] = dataset[\"Cabin\"].fillna('X').apply(lambda x: x[0])"
   ]
  },
  {
   "cell_type": "code",
   "execution_count": 25,
   "id": "730d91cd",
   "metadata": {
    "execution": {
     "iopub.execute_input": "2022-05-03T10:53:01.415944Z",
     "iopub.status.busy": "2022-05-03T10:53:01.415657Z",
     "iopub.status.idle": "2022-05-03T10:53:01.926904Z",
     "shell.execute_reply": "2022-05-03T10:53:01.925494Z"
    },
    "papermill": {
     "duration": 0.565432,
     "end_time": "2022-05-03T10:53:01.929164",
     "exception": false,
     "start_time": "2022-05-03T10:53:01.363732",
     "status": "completed"
    },
    "tags": []
   },
   "outputs": [
    {
     "data": {
      "image/png": "[encoded data removed]",
      "text/plain": [
       "<Figure size 1152x360 with 2 Axes>"
      ]
     },
     "metadata": {
      "needs_background": "light"
     },
     "output_type": "display_data"
    }
   ],
   "source": [
    "f, ax = plt.subplots(1, 2, figsize=(16, 5))\n",
    "f = sns.countplot(x=\"Cabin_head\", hue=\"Survived\", data=dataset[:train_len], ax=ax[0])\n",
    "f = sns.countplot(x=\"Cabin_head\", hue=\"Pclass\", data=dataset, ax=ax[1])\n",
    "f = f.legend(loc='upper right')"
   ]
  },
  {
   "cell_type": "markdown",
   "id": "0dbf8e88",
   "metadata": {
    "papermill": {
     "duration": 0.051526,
     "end_time": "2022-05-03T10:53:02.032808",
     "exception": false,
     "start_time": "2022-05-03T10:53:01.981282",
     "status": "completed"
    },
    "tags": []
   },
   "source": [
    "Since first class is the most, survived more when head of cabin is in [C, E, D, B]."
   ]
  },
  {
   "cell_type": "markdown",
   "id": "83eb4447",
   "metadata": {
    "papermill": {
     "duration": 0.051173,
     "end_time": "2022-05-03T10:53:02.135840",
     "exception": false,
     "start_time": "2022-05-03T10:53:02.084667",
     "status": "completed"
    },
    "tags": []
   },
   "source": [
    "### 2) Numerical Data"
   ]
  },
  {
   "cell_type": "code",
   "execution_count": 26,
   "id": "c870eeab",
   "metadata": {
    "execution": {
     "iopub.execute_input": "2022-05-03T10:53:02.240265Z",
     "iopub.status.busy": "2022-05-03T10:53:02.240009Z",
     "iopub.status.idle": "2022-05-03T10:53:03.035495Z",
     "shell.execute_reply": "2022-05-03T10:53:03.034568Z"
    },
    "papermill": {
     "duration": 0.850456,
     "end_time": "2022-05-03T10:53:03.037674",
     "exception": false,
     "start_time": "2022-05-03T10:53:02.187218",
     "status": "completed"
    },
    "tags": []
   },
   "outputs": [
    {
     "data": {
      "image/png": "[encoded data removed]",
      "text/plain": [
       "<Figure size 1152x576 with 2 Axes>"
      ]
     },
     "metadata": {
      "needs_background": "light"
     },
     "output_type": "display_data"
    }
   ],
   "source": [
    "f = plt.figure(figsize=(16, 8))\n",
    "f = sns.heatmap(dataset[[\"Survived\", \"Pclass\", \"Title\", \"Sex\", \"Age\", \"SibSp\", \"Parch\",\\\n",
    "                       \"Ticket_no\", \"Fare\", \"Embarked\"]][:train_len].corr(), \\\n",
    "               annot=True, cmap='coolwarm', vmin=-1)"
   ]
  },
  {
   "cell_type": "markdown",
   "id": "a2c72d0a",
   "metadata": {
    "papermill": {
     "duration": 0.053651,
     "end_time": "2022-05-03T10:53:03.145541",
     "exception": false,
     "start_time": "2022-05-03T10:53:03.091890",
     "status": "completed"
    },
    "tags": []
   },
   "source": [
    "**Age**"
   ]
  },
  {
   "cell_type": "code",
   "execution_count": 27,
   "id": "8b4b8dcd",
   "metadata": {
    "execution": {
     "iopub.execute_input": "2022-05-03T10:53:03.254022Z",
     "iopub.status.busy": "2022-05-03T10:53:03.253746Z",
     "iopub.status.idle": "2022-05-03T10:53:03.260440Z",
     "shell.execute_reply": "2022-05-03T10:53:03.259580Z"
    },
    "papermill": {
     "duration": 0.06332,
     "end_time": "2022-05-03T10:53:03.262375",
     "exception": false,
     "start_time": "2022-05-03T10:53:03.199055",
     "status": "completed"
    },
    "tags": []
   },
   "outputs": [
    {
     "data": {
      "text/plain": [
       "263"
      ]
     },
     "execution_count": 27,
     "metadata": {},
     "output_type": "execute_result"
    }
   ],
   "source": [
    "dataset[\"Age\"].isnull().sum()"
   ]
  },
  {
   "cell_type": "code",
   "execution_count": null,
   "id": "a96586bc",
   "metadata": {
    "papermill": {
     "duration": 0.055266,
     "end_time": "2022-05-03T10:53:03.372065",
     "exception": false,
     "start_time": "2022-05-03T10:53:03.316799",
     "status": "completed"
    },
    "tags": []
   },
   "outputs": [],
   "source": []
  }
 ],
 "metadata": {
  "kernelspec": {
   "display_name": "Python 3",
   "language": "python",
   "name": "python3"
  },
  "language_info": {
   "codemirror_mode": {
    "name": "ipython",
    "version": 3
   },
   "file_extension": ".py",
   "mimetype": "text/x-python",
   "name": "python",
   "nbconvert_exporter": "python",
   "pygments_lexer": "ipython3",
   "version": "3.7.12"
  },
  "papermill": {
   "default_parameters": {},
   "duration": 22.168135,
   "end_time": "2022-05-03T10:53:04.148320",
   "environment_variables": {},
   "exception": null,
   "input_path": "__notebook__.ipynb",
   "output_path": "__notebook__.ipynb",
   "parameters": {},
   "start_time": "2022-05-03T10:52:41.980185",
   "version": "2.3.4"
  }
 },
 "nbformat": 4,
 "nbformat_minor": 5
}
